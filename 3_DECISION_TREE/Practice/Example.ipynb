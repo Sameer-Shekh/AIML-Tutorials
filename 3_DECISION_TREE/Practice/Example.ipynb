{
 "cells": [
  {
   "cell_type": "code",
   "execution_count": null,
   "metadata": {},
   "outputs": [
    {
     "name": "stdout",
     "output_type": "stream",
     "text": [
      "Model Accuracy: 1.00\n",
      "Will we play outside? No\n"
     ]
    }
   ],
   "source": [
    "import pandas as pd\n",
    "import numpy as np\n",
    "import matplotlib.pyplot as plt\n",
    "from sklearn.model_selection import train_test_split\n",
    "from sklearn.tree import DecisionTreeClassifier\n",
    "from sklearn.metrics import accuracy_score\n",
    "from sklearn import tree\n",
    "\n",
    "# Set Pandas option to prevent future warnings\n",
    "pd.set_option('future.no_silent_downcasting', True)\n",
    "\n",
    "data = {\n",
    "    'Weather': ['Sunny', 'Sunny', 'Overcast', 'Rainy', 'Rainy', 'Overcast', 'Sunny', 'Sunny', 'Rainy', 'Sunny'],\n",
    "    'Temperature': ['Hot', 'Hot', 'Hot', 'Mild', 'Cool', 'Cool', 'Mild', 'Cool', 'Mild', 'Mild'],\n",
    "    'Humidity': ['High', 'High', 'High', 'High', 'Normal', 'Normal', 'High', 'Normal', 'Normal', 'High'],\n",
    "    'Windy': ['Weak', 'Strong', 'Weak', 'Weak', 'Weak', 'Strong', 'Strong', 'Weak', 'Strong', 'Strong'],\n",
    "    'PlayOutside': ['No', 'No', 'Yes', 'Yes', 'Yes', 'Yes', 'No', 'Yes', 'Yes', 'No']\n",
    "}\n",
    "\n",
    "df = pd.DataFrame(data)\n",
    "\n",
    "df = df.replace({\n",
    "    'Weather': {'Sunny': 0, 'Overcast': 1, 'Rainy': 2},\n",
    "    'Temperature': {'Hot': 0, 'Mild': 1, 'Cool': 2},\n",
    "    'Humidity': {'High': 0, 'Normal': 1},\n",
    "    'Windy': {'Weak': 0, 'Strong': 1},\n",
    "    'PlayOutside': {'No': 0, 'Yes': 1}\n",
    "}).infer_objects(copy=False)  # Prevents downcasting warning\n",
    "\n",
    "X = df.drop(columns=['PlayOutside'])\n",
    "y = df['PlayOutside']\n",
    "\n",
    "X_train, X_test, y_train, y_test = train_test_split(X, y, test_size=0.2, random_state=42)\n",
    "\n",
    "model = DecisionTreeClassifier(criterion='entropy', max_depth=3, random_state=42)\n",
    "model.fit(X_train, y_train)\n",
    "\n",
    "y_pred = model.predict(X_test)\n",
    "\n",
    "accuracy = accuracy_score(y_test, y_pred)\n",
    "print(f\"Model Accuracy: {accuracy:.2f}\")\n",
    "\n",
    "# Fix for \"X does not have valid feature names\" (Use DataFrame for prediction)\n",
    "new_weather = pd.DataFrame([[0, 1, 0, 1]], columns=X.columns)  # Example: Sunny, Mild, High humidity, Strong wind\n",
    "prediction = model.predict(new_weather)\n",
    "\n",
    "# Display result\n",
    "print(\"Will we play outside?\", \"Yes\" if prediction[0] == 1 else \"No\")\n"
   ]
  }
 ],
 "metadata": {
  "kernelspec": {
   "display_name": "Python 3",
   "language": "python",
   "name": "python3"
  },
  "language_info": {
   "codemirror_mode": {
    "name": "ipython",
    "version": 3
   },
   "file_extension": ".py",
   "mimetype": "text/x-python",
   "name": "python",
   "nbconvert_exporter": "python",
   "pygments_lexer": "ipython3",
   "version": "3.13.2"
  }
 },
 "nbformat": 4,
 "nbformat_minor": 2
}
